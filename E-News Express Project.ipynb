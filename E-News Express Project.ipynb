{
 "cells": [
  {
   "cell_type": "markdown",
   "id": "5c6fe1c0",
   "metadata": {},
   "source": [
    "### Description\n",
    "### Background: \n",
    "\n",
    "An online news portal aims to expand its business by acquiring new subscribers. Every visitor to the website takes certain actions based on their interest. The company plans to analyze these interests and wants to determine whether a new feature will be effective or not. Companies often analyze users' responses to two variants of a product to decide which of the two variants is more effective. This experimental technique is known as a/b testing that is used to determine whether a new feature attracts users based on a chosen metric.\n",
    "\n",
    "Suppose you are hired as a Data Scientist in E-news Express. The design team of the company has created a new landing page. You have been assigned the task to decide whether the new landing page is more effective to gather new subscribers. Suppose you randomly selected 100 users and divided them equally into two groups. The old landing page is served to the first group (control group) and the new landing page is served to the second group (treatment group). Various data about the customers in both groups are collected in 'abtest.csv'. Perform the statistical analysis to answer the following questions using the collected data.\n",
    "\n",
    "Objective:\n",
    "\n",
    "Statistical analysis of business data. Explore the dataset and extract insights from the data. The idea is for you to get comfortable with doing statistical analysis in Python.\n",
    "\n",
    "You are expected to perform the statistical analysis to answer the following questions:\n",
    "\n",
    "    1)Explore the dataset and extract insights using Exploratory Data Analysis.\n",
    "    \n",
    "    2)Do the users spend more time on the new landing page than the old landing page?\n",
    "    \n",
    "    3)Is the conversion rate (the proportion of users who visit the landing page and get converted) for the new page greater\n",
    "      than the conversion rate for the old page?\n",
    "    \n",
    "    4)Does the converted status depend on the preferred language? [Hint: Create a contingency table using the pandas.crosstab() function]\n",
    "    \n",
    "    5)Is the mean time spent on the new page same for the different language users?\n",
    "\n",
    "*Consider a significance level of 0.05 for all tests.\n"
   ]
  },
  {
   "cell_type": "markdown",
   "id": "29f1eb0c",
   "metadata": {},
   "source": [
    "### Data Dictionary:\n",
    "\n",
    "1) user_id - This represents the user ID of the person visiting the website.\n",
    "\n",
    "2) group - This represents whether the user belongs to the first group (control) or the second group (treatment).\n",
    "\n",
    "3) landing_page - This represents whether the landing page is new or old.\n",
    "\n",
    "4) time_spent_on_the_page - This represents the time (in minutes) spent by the user on the landing page.\n",
    "\n",
    "5) converted - This represents whether the user gets converted to a subscriber of the news portal or not.\n",
    "\n",
    "6) language_preferred - This represents the language chosen by the user to view the landing page."
   ]
  },
  {
   "cell_type": "code",
   "execution_count": 2,
   "id": "4f372ef7",
   "metadata": {},
   "outputs": [],
   "source": [
    "# import libraries for data manipulation\n",
    "import pandas as pd #library used for data manipulation and analysis\n",
    "import numpy as np # library used for working with arrays.\n",
    "\n",
    "# import libraries for data visualization\n",
    "import matplotlib.pyplot as plt # library for plots and visualisations\n",
    "import seaborn as sns # library for visualisations\n",
    "%matplotlib inline \n",
    "\n",
    "import warnings\n",
    "warnings.filterwarnings('ignore') # Library will suppress warnings or deprecation notes \n",
    "import statistics\n",
    "\n",
    "# import libraries to perform statistical function\n",
    "import scipy.stats as stats # this library contains a large number of probability distributions as well as a growing library of statistical functions.\n",
    "\n",
    "# for font styling\n",
    "class color:\n",
    "    GREEN = '\\033[92m'\n",
    "    BOLD = '\\033[1m'\n",
    "    END = '\\033[0m'"
   ]
  },
  {
   "cell_type": "code",
   "execution_count": 5,
   "id": "edecd5e7",
   "metadata": {},
   "outputs": [],
   "source": [
    "# read the data\n",
    "data=pd.read_csv('abtest.csv') "
   ]
  },
  {
   "cell_type": "code",
   "execution_count": 3,
   "id": "f5e42f0c",
   "metadata": {},
   "outputs": [
    {
     "data": {
      "text/html": [
       "<div>\n",
       "<style scoped>\n",
       "    .dataframe tbody tr th:only-of-type {\n",
       "        vertical-align: middle;\n",
       "    }\n",
       "\n",
       "    .dataframe tbody tr th {\n",
       "        vertical-align: top;\n",
       "    }\n",
       "\n",
       "    .dataframe thead th {\n",
       "        text-align: right;\n",
       "    }\n",
       "</style>\n",
       "<table border=\"1\" class=\"dataframe\">\n",
       "  <thead>\n",
       "    <tr style=\"text-align: right;\">\n",
       "      <th></th>\n",
       "      <th>user_id</th>\n",
       "      <th>group</th>\n",
       "      <th>landing_page</th>\n",
       "      <th>time_spent_on_the_page</th>\n",
       "      <th>converted</th>\n",
       "      <th>language_preferred</th>\n",
       "    </tr>\n",
       "  </thead>\n",
       "  <tbody>\n",
       "    <tr>\n",
       "      <th>0</th>\n",
       "      <td>546592</td>\n",
       "      <td>control</td>\n",
       "      <td>old</td>\n",
       "      <td>3.48</td>\n",
       "      <td>no</td>\n",
       "      <td>Spanish</td>\n",
       "    </tr>\n",
       "    <tr>\n",
       "      <th>1</th>\n",
       "      <td>546468</td>\n",
       "      <td>treatment</td>\n",
       "      <td>new</td>\n",
       "      <td>7.13</td>\n",
       "      <td>yes</td>\n",
       "      <td>English</td>\n",
       "    </tr>\n",
       "    <tr>\n",
       "      <th>2</th>\n",
       "      <td>546462</td>\n",
       "      <td>treatment</td>\n",
       "      <td>new</td>\n",
       "      <td>4.40</td>\n",
       "      <td>no</td>\n",
       "      <td>Spanish</td>\n",
       "    </tr>\n",
       "    <tr>\n",
       "      <th>3</th>\n",
       "      <td>546567</td>\n",
       "      <td>control</td>\n",
       "      <td>old</td>\n",
       "      <td>3.02</td>\n",
       "      <td>no</td>\n",
       "      <td>French</td>\n",
       "    </tr>\n",
       "    <tr>\n",
       "      <th>4</th>\n",
       "      <td>546459</td>\n",
       "      <td>treatment</td>\n",
       "      <td>new</td>\n",
       "      <td>4.75</td>\n",
       "      <td>yes</td>\n",
       "      <td>Spanish</td>\n",
       "    </tr>\n",
       "  </tbody>\n",
       "</table>\n",
       "</div>"
      ],
      "text/plain": [
       "   user_id      group landing_page  time_spent_on_the_page converted  \\\n",
       "0   546592    control          old                    3.48        no   \n",
       "1   546468  treatment          new                    7.13       yes   \n",
       "2   546462  treatment          new                    4.40        no   \n",
       "3   546567    control          old                    3.02        no   \n",
       "4   546459  treatment          new                    4.75       yes   \n",
       "\n",
       "  language_preferred  \n",
       "0            Spanish  \n",
       "1            English  \n",
       "2            Spanish  \n",
       "3             French  \n",
       "4            Spanish  "
      ]
     },
     "execution_count": 3,
     "metadata": {},
     "output_type": "execute_result"
    }
   ],
   "source": [
    "# first five rows of the dataset\n",
    "data.head()"
   ]
  },
  {
   "cell_type": "code",
   "execution_count": 6,
   "id": "e8f56b53",
   "metadata": {},
   "outputs": [
    {
     "data": {
      "text/plain": [
       "(100, 6)"
      ]
     },
     "execution_count": 6,
     "metadata": {},
     "output_type": "execute_result"
    }
   ],
   "source": [
    "# shape of the dataset\n",
    "data.shape "
   ]
  },
  {
   "cell_type": "markdown",
   "id": "05169451",
   "metadata": {},
   "source": [
    "#### Observations:\n",
    "\n",
    "$\\color{green}{\\text{*The DataFrame has 100 rows and 6 columns as mentioned in the Data Dictionary. Data in each row corresponds to the actions taken by the visitor on the website.}}$"
   ]
  },
  {
   "cell_type": "code",
   "execution_count": 5,
   "id": "bbc54667",
   "metadata": {},
   "outputs": [
    {
     "name": "stdout",
     "output_type": "stream",
     "text": [
      "<class 'pandas.core.frame.DataFrame'>\n",
      "RangeIndex: 100 entries, 0 to 99\n",
      "Data columns (total 6 columns):\n",
      " #   Column                  Non-Null Count  Dtype  \n",
      "---  ------                  --------------  -----  \n",
      " 0   user_id                 100 non-null    int64  \n",
      " 1   group                   100 non-null    object \n",
      " 2   landing_page            100 non-null    object \n",
      " 3   time_spent_on_the_page  100 non-null    float64\n",
      " 4   converted               100 non-null    object \n",
      " 5   language_preferred      100 non-null    object \n",
      "dtypes: float64(1), int64(1), object(4)\n",
      "memory usage: 4.8+ KB\n"
     ]
    }
   ],
   "source": [
    "data.info()"
   ]
  },
  {
   "cell_type": "markdown",
   "id": "e3214c6d",
   "metadata": {},
   "source": [
    "#### Observations:\n",
    "\n",
    "$\\color{green}{\\text{* Understanding of data types available in the dataset is very useful. It determines what values and operation it can perform. It appears that given dataset consists of  3 different types of data types i.e. int64, object & float64.}}$\n",
    "    \n",
    "$\\color{green}{\\text{* All columns have 100 observations and it also appears that there is no missing values in the dataset.}}$\n",
    "\n",
    "$\\color{green}{\\text{*group, landing_page, converted and language_preferred should be categorical variables.}}$"
   ]
  },
  {
   "cell_type": "code",
   "execution_count": 7,
   "id": "b83f19a3",
   "metadata": {},
   "outputs": [],
   "source": [
    "# Keeping a clone of original dataframe df to prevent any changes in original data structure.\n",
    "df=data.copy()"
   ]
  },
  {
   "cell_type": "code",
   "execution_count": 7,
   "id": "d55e68ba",
   "metadata": {
    "scrolled": true
   },
   "outputs": [
    {
     "name": "stdout",
     "output_type": "stream",
     "text": [
      "<class 'pandas.core.frame.DataFrame'>\n",
      "RangeIndex: 100 entries, 0 to 99\n",
      "Data columns (total 6 columns):\n",
      " #   Column                  Non-Null Count  Dtype   \n",
      "---  ------                  --------------  -----   \n",
      " 0   user_id                 100 non-null    int64   \n",
      " 1   group                   100 non-null    category\n",
      " 2   landing_page            100 non-null    category\n",
      " 3   time_spent_on_the_page  100 non-null    float64 \n",
      " 4   converted               100 non-null    category\n",
      " 5   language_preferred      100 non-null    category\n",
      "dtypes: category(4), float64(1), int64(1)\n",
      "memory usage: 2.6 KB\n"
     ]
    }
   ],
   "source": [
    "# coverting \"objects\" to \"category\" reduces the data space required to store the dataframe\n",
    "# To convert 'group', 'landing_page', 'converted', 'language_preferred' into categorical data\n",
    "# This is useful for model building\n",
    "\n",
    "df['group'] = df.group.astype('category')\n",
    "df['landing_page'] = df.landing_page.astype('category')\n",
    "df['converted'] = df.converted.astype('category')\n",
    "df['language_preferred'] = df.language_preferred.astype('category')\n",
    "\n",
    "df.info()"
   ]
  },
  {
   "cell_type": "markdown",
   "id": "5585765f",
   "metadata": {},
   "source": [
    "#### Observations:\n",
    "$\\color{green}{\\text{* By converting 'object' to 'category' we have reduced the usage of data space from 4.8+ KB to 2.6 KB.}}$\n",
    "\n",
    "$\\color{green}{\\text{* The data type of 'group', 'landing_page', 'converted and 'language_preferred' have been changed from object to category using astype() funtion.}}$"
   ]
  },
  {
   "cell_type": "code",
   "execution_count": 8,
   "id": "a2fb4ad8",
   "metadata": {
    "scrolled": true
   },
   "outputs": [
    {
     "data": {
      "text/html": [
       "<div>\n",
       "<style scoped>\n",
       "    .dataframe tbody tr th:only-of-type {\n",
       "        vertical-align: middle;\n",
       "    }\n",
       "\n",
       "    .dataframe tbody tr th {\n",
       "        vertical-align: top;\n",
       "    }\n",
       "\n",
       "    .dataframe thead th {\n",
       "        text-align: right;\n",
       "    }\n",
       "</style>\n",
       "<table border=\"1\" class=\"dataframe\">\n",
       "  <thead>\n",
       "    <tr style=\"text-align: right;\">\n",
       "      <th></th>\n",
       "      <th>user_id</th>\n",
       "      <th>group</th>\n",
       "      <th>landing_page</th>\n",
       "      <th>time_spent_on_the_page</th>\n",
       "      <th>converted</th>\n",
       "      <th>language_preferred</th>\n",
       "    </tr>\n",
       "  </thead>\n",
       "  <tbody>\n",
       "    <tr>\n",
       "      <th>count</th>\n",
       "      <td>100.000000</td>\n",
       "      <td>100</td>\n",
       "      <td>100</td>\n",
       "      <td>100.000000</td>\n",
       "      <td>100</td>\n",
       "      <td>100</td>\n",
       "    </tr>\n",
       "    <tr>\n",
       "      <th>unique</th>\n",
       "      <td>NaN</td>\n",
       "      <td>2</td>\n",
       "      <td>2</td>\n",
       "      <td>NaN</td>\n",
       "      <td>2</td>\n",
       "      <td>3</td>\n",
       "    </tr>\n",
       "    <tr>\n",
       "      <th>top</th>\n",
       "      <td>NaN</td>\n",
       "      <td>control</td>\n",
       "      <td>new</td>\n",
       "      <td>NaN</td>\n",
       "      <td>yes</td>\n",
       "      <td>French</td>\n",
       "    </tr>\n",
       "    <tr>\n",
       "      <th>freq</th>\n",
       "      <td>NaN</td>\n",
       "      <td>50</td>\n",
       "      <td>50</td>\n",
       "      <td>NaN</td>\n",
       "      <td>54</td>\n",
       "      <td>34</td>\n",
       "    </tr>\n",
       "    <tr>\n",
       "      <th>mean</th>\n",
       "      <td>546517.000000</td>\n",
       "      <td>NaN</td>\n",
       "      <td>NaN</td>\n",
       "      <td>5.377800</td>\n",
       "      <td>NaN</td>\n",
       "      <td>NaN</td>\n",
       "    </tr>\n",
       "    <tr>\n",
       "      <th>std</th>\n",
       "      <td>52.295779</td>\n",
       "      <td>NaN</td>\n",
       "      <td>NaN</td>\n",
       "      <td>2.378166</td>\n",
       "      <td>NaN</td>\n",
       "      <td>NaN</td>\n",
       "    </tr>\n",
       "    <tr>\n",
       "      <th>min</th>\n",
       "      <td>546443.000000</td>\n",
       "      <td>NaN</td>\n",
       "      <td>NaN</td>\n",
       "      <td>0.190000</td>\n",
       "      <td>NaN</td>\n",
       "      <td>NaN</td>\n",
       "    </tr>\n",
       "    <tr>\n",
       "      <th>25%</th>\n",
       "      <td>546467.750000</td>\n",
       "      <td>NaN</td>\n",
       "      <td>NaN</td>\n",
       "      <td>3.880000</td>\n",
       "      <td>NaN</td>\n",
       "      <td>NaN</td>\n",
       "    </tr>\n",
       "    <tr>\n",
       "      <th>50%</th>\n",
       "      <td>546492.500000</td>\n",
       "      <td>NaN</td>\n",
       "      <td>NaN</td>\n",
       "      <td>5.415000</td>\n",
       "      <td>NaN</td>\n",
       "      <td>NaN</td>\n",
       "    </tr>\n",
       "    <tr>\n",
       "      <th>75%</th>\n",
       "      <td>546567.250000</td>\n",
       "      <td>NaN</td>\n",
       "      <td>NaN</td>\n",
       "      <td>7.022500</td>\n",
       "      <td>NaN</td>\n",
       "      <td>NaN</td>\n",
       "    </tr>\n",
       "    <tr>\n",
       "      <th>max</th>\n",
       "      <td>546592.000000</td>\n",
       "      <td>NaN</td>\n",
       "      <td>NaN</td>\n",
       "      <td>10.710000</td>\n",
       "      <td>NaN</td>\n",
       "      <td>NaN</td>\n",
       "    </tr>\n",
       "  </tbody>\n",
       "</table>\n",
       "</div>"
      ],
      "text/plain": [
       "              user_id    group landing_page  time_spent_on_the_page converted  \\\n",
       "count      100.000000      100          100              100.000000       100   \n",
       "unique            NaN        2            2                     NaN         2   \n",
       "top               NaN  control          new                     NaN       yes   \n",
       "freq              NaN       50           50                     NaN        54   \n",
       "mean    546517.000000      NaN          NaN                5.377800       NaN   \n",
       "std         52.295779      NaN          NaN                2.378166       NaN   \n",
       "min     546443.000000      NaN          NaN                0.190000       NaN   \n",
       "25%     546467.750000      NaN          NaN                3.880000       NaN   \n",
       "50%     546492.500000      NaN          NaN                5.415000       NaN   \n",
       "75%     546567.250000      NaN          NaN                7.022500       NaN   \n",
       "max     546592.000000      NaN          NaN               10.710000       NaN   \n",
       "\n",
       "       language_preferred  \n",
       "count                 100  \n",
       "unique                  3  \n",
       "top                French  \n",
       "freq                   34  \n",
       "mean                  NaN  \n",
       "std                   NaN  \n",
       "min                   NaN  \n",
       "25%                   NaN  \n",
       "50%                   NaN  \n",
       "75%                   NaN  \n",
       "max                   NaN  "
      ]
     },
     "execution_count": 8,
     "metadata": {},
     "output_type": "execute_result"
    }
   ],
   "source": [
    "df.describe(include='all')"
   ]
  },
  {
   "cell_type": "markdown",
   "id": "29d9a98d",
   "metadata": {},
   "source": [
    "#### Observations:\n",
    "$\\color{green}{\\text{* Using describe() we got the important statistical information of the dataset. To visualize better I transposed the result view.}}$\n",
    "\n",
    "$\\color{green}{\\text{* As per the above sample taken the group or landing_page has equal division of variables of control/treatment or old/new which is 50/50 respectively out of 100 observations.}}$\n",
    "\n",
    "$\\color{green}{\\text{* The average time spent by the visitor from the above sample is 5.3378 with a standard deviation of 2.38.}}$\n",
    "\n",
    "$\\color{green}{\\text{* Out of the total visitors on the page from the considered sample, the ratio of convertion is slightly higher which stands at 54 from the total sample of 100 .}}$\n",
    "\n",
    "$\\color{green}{\\text{* The most preferred_language from the above sample is French as per the above table.}}$"
   ]
  },
  {
   "cell_type": "markdown",
   "id": "14a65ea7",
   "metadata": {},
   "source": [
    "## Q1) Explore the dataset and extract insights using Exploratory Data Analysis."
   ]
  },
  {
   "cell_type": "markdown",
   "id": "3a31fa80",
   "metadata": {},
   "source": [
    "### Univariate Analysis"
   ]
  },
  {
   "cell_type": "code",
   "execution_count": 9,
   "id": "0d771c5b",
   "metadata": {},
   "outputs": [],
   "source": [
    "def histogram_boxplot(data, feature, figsize=(12, 7), kde=False, bins=None):\n",
    "    \"\"\"\n",
    "    Boxplot and histogram combined\n",
    "\n",
    "    data: dataframe\n",
    "    feature: dataframe column\n",
    "    figsize: size of figure (default (12,7))\n",
    "    kde: whether to show the density curve (default False)\n",
    "    bins: number of bins for histogram (default None)\n",
    "    \"\"\"\n",
    "    f2, (ax_box2, ax_hist2) = plt.subplots(\n",
    "        nrows=2,  # Number of rows of the subplot grid= 2\n",
    "        sharex=True,  # x-axis will be shared among all subplots\n",
    "        gridspec_kw={\"height_ratios\": (0.25, 0.75)},\n",
    "        figsize=figsize,\n",
    "    )  # creating the 2 subplots\n",
    "    sns.boxplot(\n",
    "        data=data, x=feature, ax=ax_box2, showmeans=True, color=\"violet\"\n",
    "    )  # boxplot will be created and a star will indicate the mean value of the column\n",
    "    sns.histplot(\n",
    "        data=data, x=feature, kde=kde, ax=ax_hist2, bins=bins, palette=\"winter\"\n",
    "    ) if bins else sns.histplot(\n",
    "        data=data, x=feature, kde=kde, ax=ax_hist2\n",
    "    )  # For histogram\n",
    "    ax_hist2.axvline(\n",
    "        data[feature].mean(), color=\"green\", linestyle=\"--\"\n",
    "    )  # Add mean to the histogram\n",
    "    ax_hist2.axvline(\n",
    "        data[feature].median(), color=\"black\", linestyle=\"-\"\n",
    "    )  # Add median to the histogram"
   ]
  },
  {
   "cell_type": "markdown",
   "id": "0a32780f",
   "metadata": {},
   "source": [
    "#### Time spent on the page analysis"
   ]
  },
  {
   "cell_type": "code",
   "execution_count": 10,
   "id": "cefeba6f",
   "metadata": {},
   "outputs": [
    {
     "data": {
      "image/png": "[encoded data removed]",
      "text/plain": [
       "<Figure size 864x504 with 2 Axes>"
      ]
     },
     "metadata": {
      "needs_background": "light"
     },
     "output_type": "display_data"
    }
   ],
   "source": [
    "histogram_boxplot(df, 'time_spent_on_the_page')"
   ]
  },
  {
   "cell_type": "code",
   "execution_count": 11,
   "id": "400b17e9",
   "metadata": {},
   "outputs": [
    {
     "data": {
      "image/png": "[encoded data removed]",
      "text/plain": [
       "<Figure size 432x288 with 1 Axes>"
      ]
     },
     "metadata": {
      "needs_background": "light"
     },
     "output_type": "display_data"
    },
    {
     "data": {
      "image/png": "[encoded data removed]",
      "text/plain": [
       "<Figure size 432x288 with 1 Axes>"
      ]
     },
     "metadata": {
      "needs_background": "light"
     },
     "output_type": "display_data"
    }
   ],
   "source": [
    "sns.distplot(df['time_spent_on_the_page'],color='hotpink')\n",
    "plt.show()\n",
    "sns.boxplot(y='time_spent_on_the_page',data=df)\n",
    "plt.show()"
   ]
  },
  {
   "cell_type": "code",
   "execution_count": 12,
   "id": "21648a0b",
   "metadata": {},
   "outputs": [],
   "source": [
    "import statistics"
   ]
  },
  {
   "cell_type": "code",
   "execution_count": 13,
   "id": "6fede986",
   "metadata": {},
   "outputs": [
    {
     "data": {
      "text/plain": [
       "5.415"
      ]
     },
     "execution_count": 13,
     "metadata": {},
     "output_type": "execute_result"
    }
   ],
   "source": [
    "statistics.median(df['time_spent_on_the_page'])"
   ]
  },
  {
   "cell_type": "markdown",
   "id": "120cf345",
   "metadata": {},
   "source": [
    "### Observations\n",
    "* The distribution of time spent on the page looks Normal.\n",
    "* There are no outliers for time spent on the page.\n",
    "* Median of the time_spent_on_the_page is 5.4 and Mean is around 5.4.  \n",
    "* The distribution of time_spent_on_the_page is highest between 3.8 to 6.8, indicating maximum number of visitors spent time on page between these two time bands."
   ]
  },
  {
   "cell_type": "markdown",
   "id": "06a0f08d",
   "metadata": {},
   "source": [
    "#### Landing Page analysis"
   ]
  },
  {
   "cell_type": "code",
   "execution_count": 14,
   "id": "af4e5a7e",
   "metadata": {},
   "outputs": [
    {
     "data": {
      "image/png": "[encoded data removed]",
      "text/plain": [
       "<Figure size 720x360 with 1 Axes>"
      ]
     },
     "metadata": {
      "needs_background": "light"
     },
     "output_type": "display_data"
    }
   ],
   "source": [
    "plt.figure(figsize=(10,5))\n",
    "dow=df['landing_page'].value_counts()\n",
    "sns.barplot(dow.index,dow,palette='Pastel1')\n",
    "plt.xlabel('Count')\n",
    "plt.title(\"landing_page\")\n",
    "plt.xticks(rotation=0);"
   ]
  },
  {
   "cell_type": "markdown",
   "id": "5467f1b4",
   "metadata": {},
   "source": [
    "### Observations\n",
    "* The above barplot clearly states that there are equal number of old & new vistors on the landing page in the given data."
   ]
  },
  {
   "cell_type": "markdown",
   "id": "370127ca",
   "metadata": {},
   "source": [
    "#### Converted analysis"
   ]
  },
  {
   "cell_type": "code",
   "execution_count": 15,
   "id": "5ce42a93",
   "metadata": {
    "scrolled": true
   },
   "outputs": [
    {
     "data": {
      "image/png": "[encoded data removed]",
      "text/plain": [
       "<Figure size 720x360 with 1 Axes>"
      ]
     },
     "metadata": {
      "needs_background": "light"
     },
     "output_type": "display_data"
    }
   ],
   "source": [
    "plt.figure(figsize=(10,5))\n",
    "dow=df['converted'].value_counts()\n",
    "sns.barplot(dow.index,dow,palette='Pastel1')\n",
    "plt.xlabel('Count')\n",
    "plt.title(\"converted\")\n",
    "plt.xticks(rotation=0);"
   ]
  },
  {
   "cell_type": "markdown",
   "id": "e00c13b7",
   "metadata": {},
   "source": [
    "### Observations\n",
    "* The above barplot clearly states that in the given data the count of visitors who are converted are higher than the visitors who are not converted."
   ]
  },
  {
   "cell_type": "markdown",
   "id": "f3f5cf62",
   "metadata": {},
   "source": [
    "#### Language Preferred analysis"
   ]
  },
  {
   "cell_type": "code",
   "execution_count": 16,
   "id": "b5bbb09e",
   "metadata": {},
   "outputs": [
    {
     "data": {
      "image/png": "[encoded data removed]",
      "text/plain": [
       "<Figure size 720x360 with 1 Axes>"
      ]
     },
     "metadata": {
      "needs_background": "light"
     },
     "output_type": "display_data"
    }
   ],
   "source": [
    "plt.figure(figsize=(10,5))\n",
    "dow=df['language_preferred'].value_counts()\n",
    "sns.barplot(dow.index,dow,palette='Pastel1')\n",
    "plt.xlabel('Count')\n",
    "plt.title(\"language_preferred\")\n",
    "plt.xticks(rotation=0);"
   ]
  },
  {
   "cell_type": "markdown",
   "id": "272a4ef5",
   "metadata": {},
   "source": [
    "### Observations\n",
    "* The above barplot clearly states that the proportion of visitors who uses French and Spanish language are equal and also higher than English Language user."
   ]
  },
  {
   "cell_type": "markdown",
   "id": "cfe5b5cf",
   "metadata": {},
   "source": [
    "#### Group analysis"
   ]
  },
  {
   "cell_type": "code",
   "execution_count": 17,
   "id": "c99f2475",
   "metadata": {},
   "outputs": [
    {
     "data": {
      "image/png": "[encoded data removed]",
      "text/plain": [
       "<Figure size 720x360 with 1 Axes>"
      ]
     },
     "metadata": {
      "needs_background": "light"
     },
     "output_type": "display_data"
    }
   ],
   "source": [
    "plt.figure(figsize=(10,5))\n",
    "dow=df['group'].value_counts()\n",
    "sns.barplot(dow.index,dow,palette='Pastel1')\n",
    "plt.xlabel('Count')\n",
    "plt.title(\"group\")\n",
    "plt.xticks(rotation=0);"
   ]
  },
  {
   "cell_type": "markdown",
   "id": "5cd78381",
   "metadata": {},
   "source": [
    "### Observations\n",
    "* Above barplot state that the count of both control and treatment are similar. Also we know from the brief that control and tretment are nothing but old and new Landing page simultaneously."
   ]
  },
  {
   "cell_type": "markdown",
   "id": "ec9dc823",
   "metadata": {},
   "source": [
    "### Bivariate Analysis"
   ]
  },
  {
   "cell_type": "markdown",
   "id": "34a87609",
   "metadata": {},
   "source": [
    "#### Relationship between Landing page and Converted"
   ]
  },
  {
   "cell_type": "code",
   "execution_count": 18,
   "id": "aee5a8bf",
   "metadata": {},
   "outputs": [
    {
     "data": {
      "image/png": "[encoded data removed]",
      "text/plain": [
       "<Figure size 432x288 with 1 Axes>"
      ]
     },
     "metadata": {
      "needs_background": "light"
     },
     "output_type": "display_data"
    }
   ],
   "source": [
    "sns.countplot(df['converted'], hue = df['landing_page'])\n",
    "plt.show()"
   ]
  },
  {
   "cell_type": "markdown",
   "id": "27b052a5",
   "metadata": {},
   "source": [
    "### Observations\n",
    "* The above countplot explains that the convertion ratio in the new landing page (treatment) has been higher than the old landing page (Control).\n",
    "* Also the old landing Page (Control) has higher proportion of rejection than the convertion."
   ]
  },
  {
   "cell_type": "markdown",
   "id": "04abcc0f",
   "metadata": {},
   "source": [
    "#### Relationship between Times spent on the page and Landing page"
   ]
  },
  {
   "cell_type": "code",
   "execution_count": 19,
   "id": "b4a36b8c",
   "metadata": {},
   "outputs": [
    {
     "data": {
      "image/png": "[encoded data removed]",
      "text/plain": [
       "<Figure size 432x360 with 1 Axes>"
      ]
     },
     "metadata": {
      "needs_background": "light"
     },
     "output_type": "display_data"
    }
   ],
   "source": [
    "# draw the boxplot for visualization \n",
    "fig, ax = plt.subplots(figsize = (6,5))\n",
    "a = sns.boxplot(x= 'landing_page', y = 'time_spent_on_the_page' , data = df, showmeans=True)\n",
    "a.set_title(\"Mean Time spent on the new Landing page and the old Landing page\", fontsize=15)\n",
    "plt.show()"
   ]
  },
  {
   "cell_type": "markdown",
   "id": "0c7f5ecd",
   "metadata": {},
   "source": [
    "### Observations\n",
    "* The new landing page (Treatment) has few outliers on both the sides.\n",
    "* The average Time spent on the new landing page (Treatment) is higher than on the Old Landing Page (Control)"
   ]
  },
  {
   "cell_type": "markdown",
   "id": "adf3fbd8",
   "metadata": {},
   "source": [
    "#### Relationship between Times spent on the page and Language preferred"
   ]
  },
  {
   "cell_type": "code",
   "execution_count": 20,
   "id": "31923800",
   "metadata": {},
   "outputs": [
    {
     "data": {
      "image/png": "[encoded data removed]",
      "text/plain": [
       "<Figure size 432x288 with 1 Axes>"
      ]
     },
     "metadata": {
      "needs_background": "light"
     },
     "output_type": "display_data"
    }
   ],
   "source": [
    "A = df.groupby(by=['language_preferred'])['time_spent_on_the_page'].count().reset_index().sort_values(['language_preferred'])\n",
    "sns.pointplot(x='language_preferred', y='time_spent_on_the_page', ci= None, data = A)\n",
    "plt.xticks(rotation=0)\n",
    "plt.show()"
   ]
  },
  {
   "cell_type": "code",
   "execution_count": 21,
   "id": "c0bb6381",
   "metadata": {},
   "outputs": [
    {
     "data": {
      "image/png": "[encoded data removed]",
      "text/plain": [
       "<Figure size 432x288 with 1 Axes>"
      ]
     },
     "metadata": {
      "needs_background": "light"
     },
     "output_type": "display_data"
    }
   ],
   "source": [
    "A = df.groupby(by=['language_preferred'])['time_spent_on_the_page'].mean().reset_index().sort_values(['language_preferred'])\n",
    "sns.pointplot(x='language_preferred', y='time_spent_on_the_page', ci= None, data = A)\n",
    "plt.xticks(rotation=0)\n",
    "plt.show()"
   ]
  },
  {
   "cell_type": "code",
   "execution_count": 22,
   "id": "d36e5ca9",
   "metadata": {},
   "outputs": [
    {
     "data": {
      "image/png": "[encoded data removed]",
      "text/plain": [
       "<Figure size 432x288 with 1 Axes>"
      ]
     },
     "metadata": {
      "needs_background": "light"
     },
     "output_type": "display_data"
    }
   ],
   "source": [
    "sns.barplot(df['language_preferred'],df['time_spent_on_the_page']);"
   ]
  },
  {
   "cell_type": "code",
   "execution_count": 23,
   "id": "6b8e3bf9",
   "metadata": {},
   "outputs": [
    {
     "data": {
      "image/png": "[encoded data removed]",
      "text/plain": [
       "<Figure size 432x288 with 1 Axes>"
      ]
     },
     "metadata": {
      "needs_background": "light"
     },
     "output_type": "display_data"
    }
   ],
   "source": [
    "sns.barplot(df['converted'],df['time_spent_on_the_page']);"
   ]
  },
  {
   "cell_type": "markdown",
   "id": "aa5a7aaa",
   "metadata": {},
   "source": [
    "### Observations\n",
    "* The above relationship has been explained using 3 graphs which shows 2 different observations\n",
    "* French and Spanish has higher number of users at 34 each and English language users are slightly lesser at 30 in the given dataset.\n",
    "* Though the number of users are higher for French and Spaish the average Time spent by the user on English is slightlt higher than the other two languages."
   ]
  },
  {
   "cell_type": "markdown",
   "id": "6508c9b8",
   "metadata": {},
   "source": [
    "### Bivariate Scatter Plot"
   ]
  },
  {
   "cell_type": "code",
   "execution_count": 24,
   "id": "f634e941",
   "metadata": {},
   "outputs": [],
   "source": [
    "from sklearn.preprocessing import LabelEncoder #added this library to "
   ]
  },
  {
   "cell_type": "code",
   "execution_count": 25,
   "id": "4738578d",
   "metadata": {},
   "outputs": [
    {
     "name": "stdout",
     "output_type": "stream",
     "text": [
      "<class 'pandas.core.frame.DataFrame'>\n",
      "RangeIndex: 100 entries, 0 to 99\n",
      "Data columns (total 9 columns):\n",
      " #   Column                  Non-Null Count  Dtype   \n",
      "---  ------                  --------------  -----   \n",
      " 0   user_id                 100 non-null    category\n",
      " 1   group                   100 non-null    category\n",
      " 2   landing_page            100 non-null    object  \n",
      " 3   time_spent_on_the_page  100 non-null    float64 \n",
      " 4   converted               100 non-null    object  \n",
      " 5   language_preferred      100 non-null    object  \n",
      " 6   landing_page_int        100 non-null    int32   \n",
      " 7   converted_int           100 non-null    int32   \n",
      " 8   language_preferred_int  100 non-null    int32   \n",
      "dtypes: category(2), float64(1), int32(3), object(3)\n",
      "memory usage: 9.6+ KB\n"
     ]
    }
   ],
   "source": [
    "#data preparation for visualization\n",
    "#transform dtypes from category/object to int/floats and add them as new variables in the dataset\n",
    "df1 = data.copy()\n",
    "le = LabelEncoder()\n",
    "df1[\"landing_page_int\"] = le.fit_transform(df1[\"landing_page\"])\n",
    "df1[\"converted_int\"] = le.fit_transform(df1[\"converted\"])\n",
    "df1[\"language_preferred_int\"] = le.fit_transform(df1[\"language_preferred\"])\n",
    "df1['user_id'] = df1.user_id.astype('category')\n",
    "df1['group'] = df1.group.astype('category')\n",
    "df1.info()"
   ]
  },
  {
   "cell_type": "code",
   "execution_count": 26,
   "id": "4cd23cdb",
   "metadata": {
    "scrolled": true
   },
   "outputs": [
    {
     "data": {
      "image/png": "[encoded data removed]",
      "text/plain": [
       "<Figure size 720x720 with 20 Axes>"
      ]
     },
     "metadata": {
      "needs_background": "light"
     },
     "output_type": "display_data"
    }
   ],
   "source": [
    "# pairplot \n",
    "sns.pairplot(data=df1, diag_kind=\"kde\")\n",
    "plt.show()"
   ]
  },
  {
   "cell_type": "markdown",
   "id": "8f5c1834",
   "metadata": {},
   "source": [
    "**Observations**\n",
    "\n",
    "* There seems to be a strong relationship between time_spent_on_the_page with converted, landing_page and language_preferred"
   ]
  },
  {
   "cell_type": "markdown",
   "id": "19033ef0",
   "metadata": {},
   "source": [
    "### Multivariate Analysis"
   ]
  },
  {
   "cell_type": "code",
   "execution_count": 27,
   "id": "f7403647",
   "metadata": {
    "scrolled": true
   },
   "outputs": [
    {
     "data": {
      "image/png": "[encoded data removed]",
      "text/plain": [
       "<Figure size 576x360 with 2 Axes>"
      ]
     },
     "metadata": {
      "needs_background": "light"
     },
     "output_type": "display_data"
    }
   ],
   "source": [
    "corr = df1.corr()\n",
    "\n",
    "# plot the heatmap\n",
    "\n",
    "plt.figure(figsize=(8, 5))\n",
    "sns.heatmap(corr, annot=True, vmin=-1, vmax=1, fmt=\".2f\", cmap=\"Spectral\", xticklabels=corr.columns, yticklabels=corr.columns)\n",
    "plt.show()"
   ]
  },
  {
   "cell_type": "markdown",
   "id": "5e8216b6",
   "metadata": {},
   "source": [
    "Observations:\n",
    "\n",
    "1. Times spent on the page have a positive correlation with converted.\n",
    "2. Factors influencing time spent on the page and landing page would need furthur investigation.  "
   ]
  },
  {
   "cell_type": "markdown",
   "id": "39e43e64",
   "metadata": {},
   "source": [
    "#### Relationship between Language_prefered, Times spent on the page and Landing page"
   ]
  },
  {
   "cell_type": "code",
   "execution_count": 28,
   "id": "2a277c4e",
   "metadata": {},
   "outputs": [
    {
     "data": {
      "image/png": "[encoded data removed]",
      "text/plain": [
       "<Figure size 435.25x360 with 1 Axes>"
      ]
     },
     "metadata": {
      "needs_background": "light"
     },
     "output_type": "display_data"
    }
   ],
   "source": [
    "sns.lmplot(x='language_preferred',y='time_spent_on_the_page',data=df,fit_reg=False,hue='landing_page')\n",
    "plt.show()"
   ]
  },
  {
   "cell_type": "code",
   "execution_count": 29,
   "id": "32c2e42f",
   "metadata": {},
   "outputs": [
    {
     "data": {
      "image/png": "[encoded data removed]",
      "text/plain": [
       "<Figure size 432x288 with 1 Axes>"
      ]
     },
     "metadata": {
      "needs_background": "light"
     },
     "output_type": "display_data"
    }
   ],
   "source": [
    "sns.stripplot(df['language_preferred'], df['time_spent_on_the_page'], df['landing_page'])\n",
    "plt.show();"
   ]
  },
  {
   "cell_type": "markdown",
   "id": "25b17057",
   "metadata": {},
   "source": [
    "**Observations**\n",
    "\n",
    "* The highest amount of time spent by a visitior is on French language which is from the new landing page (treatemnt). \n",
    "* Second highest is also from the new landing page (treatment) i.e. English Language.\n",
    "* Time spent on the page by visitors on new landing page (treatment) seems to be higher than the old landing poage (control)."
   ]
  },
  {
   "cell_type": "markdown",
   "id": "134e7bda",
   "metadata": {},
   "source": [
    "#### Relationship between Converted, Times spent on the page and Landing page"
   ]
  },
  {
   "cell_type": "code",
   "execution_count": 30,
   "id": "4487e52d",
   "metadata": {},
   "outputs": [
    {
     "data": {
      "image/png": "[encoded data removed]",
      "text/plain": [
       "<Figure size 435.25x360 with 1 Axes>"
      ]
     },
     "metadata": {
      "needs_background": "light"
     },
     "output_type": "display_data"
    }
   ],
   "source": [
    "sns.lmplot(x='converted',y='time_spent_on_the_page',data=df,fit_reg=False,hue='landing_page')\n",
    "plt.show()"
   ]
  },
  {
   "cell_type": "markdown",
   "id": "a90429bf",
   "metadata": {},
   "source": [
    "#### Relationship between Language_prefered, Times spent on the page, Landing page and converted"
   ]
  },
  {
   "cell_type": "code",
   "execution_count": 31,
   "id": "4707ad91",
   "metadata": {},
   "outputs": [
    {
     "data": {
      "image/png": "[encoded data removed]",
      "text/plain": [
       "<Figure size 795.25x360 with 2 Axes>"
      ]
     },
     "metadata": {
      "needs_background": "light"
     },
     "output_type": "display_data"
    }
   ],
   "source": [
    "sns.lmplot(x='language_preferred',y='time_spent_on_the_page',data=df,fit_reg=False,hue='landing_page',col='converted',palette='rocket')\n",
    "plt.show()"
   ]
  },
  {
   "cell_type": "markdown",
   "id": "5b64fc0e",
   "metadata": {},
   "source": [
    "**Observations**\n",
    "\n",
    "* From the above implots conversion ratio looks much higher on both new and old landing pages when the Time spent on the page is higher\n",
    "* New landing page (treatment) users spent more time on the page and hence the conversion ratio is higher than the old landing page (control)."
   ]
  },
  {
   "cell_type": "markdown",
   "id": "8327e1f5",
   "metadata": {},
   "source": [
    "## Q2) Do the users spend more time on the new landing page than the old landing page?\n"
   ]
  },
  {
   "cell_type": "markdown",
   "id": "c57f09f8",
   "metadata": {},
   "source": [
    "### Data Preparation for the test"
   ]
  },
  {
   "cell_type": "code",
   "execution_count": 32,
   "id": "9509db75",
   "metadata": {},
   "outputs": [],
   "source": [
    "df_lang_new = df[df['landing_page']== 'new'] # creating individual data frames for new landing page and old landing page\n",
    "df_lang_old = df[df['landing_page']== 'old']"
   ]
  },
  {
   "cell_type": "code",
   "execution_count": 33,
   "id": "84bad04d",
   "metadata": {},
   "outputs": [
    {
     "data": {
      "text/plain": [
       "(50, 6)"
      ]
     },
     "execution_count": 33,
     "metadata": {},
     "output_type": "execute_result"
    }
   ],
   "source": [
    "df_lang_new.shape"
   ]
  },
  {
   "cell_type": "code",
   "execution_count": 34,
   "id": "51b109a3",
   "metadata": {},
   "outputs": [
    {
     "data": {
      "text/html": [
       "<div>\n",
       "<style scoped>\n",
       "    .dataframe tbody tr th:only-of-type {\n",
       "        vertical-align: middle;\n",
       "    }\n",
       "\n",
       "    .dataframe tbody tr th {\n",
       "        vertical-align: top;\n",
       "    }\n",
       "\n",
       "    .dataframe thead th {\n",
       "        text-align: right;\n",
       "    }\n",
       "</style>\n",
       "<table border=\"1\" class=\"dataframe\">\n",
       "  <thead>\n",
       "    <tr style=\"text-align: right;\">\n",
       "      <th></th>\n",
       "      <th>user_id</th>\n",
       "      <th>group</th>\n",
       "      <th>landing_page</th>\n",
       "      <th>time_spent_on_the_page</th>\n",
       "      <th>converted</th>\n",
       "      <th>language_preferred</th>\n",
       "    </tr>\n",
       "  </thead>\n",
       "  <tbody>\n",
       "    <tr>\n",
       "      <th>1</th>\n",
       "      <td>546468</td>\n",
       "      <td>treatment</td>\n",
       "      <td>new</td>\n",
       "      <td>7.13</td>\n",
       "      <td>yes</td>\n",
       "      <td>English</td>\n",
       "    </tr>\n",
       "    <tr>\n",
       "      <th>2</th>\n",
       "      <td>546462</td>\n",
       "      <td>treatment</td>\n",
       "      <td>new</td>\n",
       "      <td>4.40</td>\n",
       "      <td>no</td>\n",
       "      <td>Spanish</td>\n",
       "    </tr>\n",
       "    <tr>\n",
       "      <th>4</th>\n",
       "      <td>546459</td>\n",
       "      <td>treatment</td>\n",
       "      <td>new</td>\n",
       "      <td>4.75</td>\n",
       "      <td>yes</td>\n",
       "      <td>Spanish</td>\n",
       "    </tr>\n",
       "    <tr>\n",
       "      <th>6</th>\n",
       "      <td>546448</td>\n",
       "      <td>treatment</td>\n",
       "      <td>new</td>\n",
       "      <td>5.25</td>\n",
       "      <td>yes</td>\n",
       "      <td>French</td>\n",
       "    </tr>\n",
       "    <tr>\n",
       "      <th>8</th>\n",
       "      <td>546461</td>\n",
       "      <td>treatment</td>\n",
       "      <td>new</td>\n",
       "      <td>10.71</td>\n",
       "      <td>yes</td>\n",
       "      <td>French</td>\n",
       "    </tr>\n",
       "  </tbody>\n",
       "</table>\n",
       "</div>"
      ],
      "text/plain": [
       "   user_id      group landing_page  time_spent_on_the_page converted  \\\n",
       "1   546468  treatment          new                    7.13       yes   \n",
       "2   546462  treatment          new                    4.40        no   \n",
       "4   546459  treatment          new                    4.75       yes   \n",
       "6   546448  treatment          new                    5.25       yes   \n",
       "8   546461  treatment          new                   10.71       yes   \n",
       "\n",
       "  language_preferred  \n",
       "1            English  \n",
       "2            Spanish  \n",
       "4            Spanish  \n",
       "6             French  \n",
       "8             French  "
      ]
     },
     "execution_count": 34,
     "metadata": {},
     "output_type": "execute_result"
    }
   ],
   "source": [
    "df_lang_new.head()"
   ]
  },
  {
   "cell_type": "code",
   "execution_count": 35,
   "id": "79a8bd2b",
   "metadata": {},
   "outputs": [
    {
     "data": {
      "text/plain": [
       "(50, 6)"
      ]
     },
     "execution_count": 35,
     "metadata": {},
     "output_type": "execute_result"
    }
   ],
   "source": [
    "df_lang_old.shape"
   ]
  },
  {
   "cell_type": "code",
   "execution_count": 36,
   "id": "58671f22",
   "metadata": {},
   "outputs": [
    {
     "data": {
      "text/html": [
       "<div>\n",
       "<style scoped>\n",
       "    .dataframe tbody tr th:only-of-type {\n",
       "        vertical-align: middle;\n",
       "    }\n",
       "\n",
       "    .dataframe tbody tr th {\n",
       "        vertical-align: top;\n",
       "    }\n",
       "\n",
       "    .dataframe thead th {\n",
       "        text-align: right;\n",
       "    }\n",
       "</style>\n",
       "<table border=\"1\" class=\"dataframe\">\n",
       "  <thead>\n",
       "    <tr style=\"text-align: right;\">\n",
       "      <th></th>\n",
       "      <th>user_id</th>\n",
       "      <th>group</th>\n",
       "      <th>landing_page</th>\n",
       "      <th>time_spent_on_the_page</th>\n",
       "      <th>converted</th>\n",
       "      <th>language_preferred</th>\n",
       "    </tr>\n",
       "  </thead>\n",
       "  <tbody>\n",
       "    <tr>\n",
       "      <th>0</th>\n",
       "      <td>546592</td>\n",
       "      <td>control</td>\n",
       "      <td>old</td>\n",
       "      <td>3.48</td>\n",
       "      <td>no</td>\n",
       "      <td>Spanish</td>\n",
       "    </tr>\n",
       "    <tr>\n",
       "      <th>3</th>\n",
       "      <td>546567</td>\n",
       "      <td>control</td>\n",
       "      <td>old</td>\n",
       "      <td>3.02</td>\n",
       "      <td>no</td>\n",
       "      <td>French</td>\n",
       "    </tr>\n",
       "    <tr>\n",
       "      <th>5</th>\n",
       "      <td>546558</td>\n",
       "      <td>control</td>\n",
       "      <td>old</td>\n",
       "      <td>5.28</td>\n",
       "      <td>yes</td>\n",
       "      <td>English</td>\n",
       "    </tr>\n",
       "    <tr>\n",
       "      <th>7</th>\n",
       "      <td>546581</td>\n",
       "      <td>control</td>\n",
       "      <td>old</td>\n",
       "      <td>6.53</td>\n",
       "      <td>yes</td>\n",
       "      <td>Spanish</td>\n",
       "    </tr>\n",
       "    <tr>\n",
       "      <th>9</th>\n",
       "      <td>546548</td>\n",
       "      <td>control</td>\n",
       "      <td>old</td>\n",
       "      <td>2.08</td>\n",
       "      <td>no</td>\n",
       "      <td>English</td>\n",
       "    </tr>\n",
       "  </tbody>\n",
       "</table>\n",
       "</div>"
      ],
      "text/plain": [
       "   user_id    group landing_page  time_spent_on_the_page converted  \\\n",
       "0   546592  control          old                    3.48        no   \n",
       "3   546567  control          old                    3.02        no   \n",
       "5   546558  control          old                    5.28       yes   \n",
       "7   546581  control          old                    6.53       yes   \n",
       "9   546548  control          old                    2.08        no   \n",
       "\n",
       "  language_preferred  \n",
       "0            Spanish  \n",
       "3             French  \n",
       "5            English  \n",
       "7            Spanish  \n",
       "9            English  "
      ]
     },
     "execution_count": 36,
     "metadata": {},
     "output_type": "execute_result"
    }
   ],
   "source": [
    "df_lang_old.head()"
   ]
  },
  {
   "cell_type": "code",
   "execution_count": 37,
   "id": "f0fb974c",
   "metadata": {},
   "outputs": [
    {
     "name": "stdout",
     "output_type": "stream",
     "text": [
      "Average time spent by users on the new landing page is 6.2232\n",
      "\n",
      "Average time spent by users on the old landing page is 4.532400000000001\n"
     ]
    }
   ],
   "source": [
    "# Average time spent by users on the new landing page\n",
    "new_landing_page_time_spent = df_lang_new.time_spent_on_the_page.mean()\n",
    "# Average time spent by users on the old landing page\n",
    "old_landing_page_time_spent = df_lang_old.time_spent_on_the_page.mean()\n",
    "\n",
    "print('Average time spent by users on the new landing page is', new_landing_page_time_spent)\n",
    "print()\n",
    "print('Average time spent by users on the old landing page is', old_landing_page_time_spent)\n"
   ]
  },
  {
   "cell_type": "markdown",
   "id": "0e1985ba",
   "metadata": {},
   "source": [
    "### Visual representation"
   ]
  },
  {
   "cell_type": "code",
   "execution_count": 38,
   "id": "e52ea4af",
   "metadata": {},
   "outputs": [
    {
     "data": {
      "image/png": "[encoded data removed]",
      "text/plain": [
       "<Figure size 432x288 with 1 Axes>"
      ]
     },
     "metadata": {
      "needs_background": "light"
     },
     "output_type": "display_data"
    }
   ],
   "source": [
    "sns.barplot(df['landing_page'],df['time_spent_on_the_page']);\n",
    "plt.title(\"Mean Time spent on the new Landing page and the old Landing page\", fontsize=15)\n",
    "plt.show()"
   ]
  },
  {
   "cell_type": "code",
   "execution_count": 39,
   "id": "ace3f073",
   "metadata": {},
   "outputs": [
    {
     "data": {
      "image/png": "[encoded data removed]",
      "text/plain": [
       "<Figure size 432x288 with 1 Axes>"
      ]
     },
     "metadata": {
      "needs_background": "light"
     },
     "output_type": "display_data"
    }
   ],
   "source": [
    "A = df.groupby(by=['landing_page'])['time_spent_on_the_page'].mean().reset_index().sort_values(['landing_page'])\n",
    "sns.pointplot(x='landing_page', y='time_spent_on_the_page', ci= None, data = A)\n",
    "plt.xticks(rotation=0)\n",
    "plt.show()"
   ]
  },
  {
   "cell_type": "markdown",
   "id": "7bd20d27",
   "metadata": {},
   "source": [
    "### Observations\n",
    "\n",
    "* From the above plots and the observations we can state that the mean time spent by the user on the new landing page is slightly higher than the old landing page. \n",
    "* Let's perform a hypothesis test to see if there are enough statistical evidence to show that the users spend more time on the new landing page than the old landing page\n"
   ]
  },
  {
   "cell_type": "markdown",
   "id": "771a546c",
   "metadata": {},
   "source": [
    "### Defining Null and alternative hypotheses"
   ]
  },
  {
   "cell_type": "markdown",
   "id": "ae248abe",
   "metadata": {},
   "source": [
    "𝐻o: The mean time spent by user on the new landing page is equal to the mean time spent by user on the old landing page.\n",
    "\n",
    "𝐻𝑎: The mean time spent by user on the new landing page is greater the mean time spent by user on the old landing page.\n",
    "\n",
    "Let  𝜇1,𝜇2  be the mean time spent by on the new landing page and mean times spent on the old landing page respectively.\n",
    "\n",
    "Mathematically, the above formulated hypotheses can be written as:\n",
    "\n",
    "𝐻o:𝜇1=𝜇2\n",
    "\n",
    "𝐻𝑎:𝜇1>𝜇2"
   ]
  },
  {
   "cell_type": "markdown",
   "id": "3ff7527e",
   "metadata": {},
   "source": [
    "### Level of Significance\n",
    "* As given in the problem statement, we select  𝛼  = 0.05."
   ]
  },
  {
   "cell_type": "markdown",
   "id": "87d7d6c9",
   "metadata": {},
   "source": [
    "### Selecting Appropriate test"
   ]
  },
  {
   "cell_type": "markdown",
   "id": "cdc89950",
   "metadata": {},
   "source": [
    "This is a case of a one-tailed two-sample mean test. As the two samples are not independent in this case, and also the population standard deviations are unknown, we shall use a paired t-test for this problem."
   ]
  },
  {
   "cell_type": "markdown",
   "id": "34e1c091",
   "metadata": {},
   "source": [
    "### Calculate the p-value"
   ]
  },
  {
   "cell_type": "markdown",
   "id": "2b73461a",
   "metadata": {},
   "source": [
    "scipy.stats.ttest_rel calculates the t-test on TWO RELATED samples of observations. This function returns the test statistic and p-value for a right-tailed t-test as the alternative parameter is set to 'greater'."
   ]
  },
  {
   "cell_type": "code",
   "execution_count": 40,
   "id": "83788b23",
   "metadata": {},
   "outputs": [
    {
     "name": "stdout",
     "output_type": "stream",
     "text": [
      "The p-value is 0.00029910900937037973\n"
     ]
    }
   ],
   "source": [
    "test_stat, p_value = stats.ttest_rel(df_lang_new['time_spent_on_the_page'], df_lang_old['time_spent_on_the_page'], alternative = 'greater')  #Performing a paired t-test\n",
    "\n",
    "print('The p-value is', p_value)"
   ]
  },
  {
   "cell_type": "code",
   "execution_count": 41,
   "id": "037d4634",
   "metadata": {},
   "outputs": [
    {
     "name": "stdout",
     "output_type": "stream",
     "text": [
      "As the p-value 0.00029910900937037973 is less than the level of significance, we reject the null hypothesis.\n"
     ]
    }
   ],
   "source": [
    "# print the conclusion based on p-value\n",
    "if p_value < 0.05:\n",
    "    print(f'As the p-value {p_value} is less than the level of significance, we reject the null hypothesis.')\n",
    "else:\n",
    "    print(f'As the p-value {p_value} is greater than the level of significance, we fail to reject the null hypothesis.')"
   ]
  },
  {
   "cell_type": "markdown",
   "id": "7e6513ad",
   "metadata": {},
   "source": [
    "### Conclusion\n",
    "\n",
    "* At 5% significance level, we reject null hypothesis. Hence we do have enough statistical evidence to say that the mean time spent by user on the new landing page is greater than the mean time spent by users on the old landing page. "
   ]
  },
  {
   "cell_type": "markdown",
   "id": "4e25d0c2",
   "metadata": {},
   "source": [
    "## Q3) Is the conversion rate (the proportion of users who visit the landing page and get converted) for the new page greater than the conversion rate for the old page?"
   ]
  },
  {
   "cell_type": "markdown",
   "id": "3fba6580",
   "metadata": {},
   "source": [
    "### Data Preparation for the test"
   ]
  },
  {
   "cell_type": "code",
   "execution_count": 42,
   "id": "c0748ddb",
   "metadata": {},
   "outputs": [
    {
     "name": "stdout",
     "output_type": "stream",
     "text": [
      "The numbers of users converted on new landing page and old landing page are 33 and 21 respectively\n",
      "The total numbers of users on the new landing page and the old landing page are 50 and 50 respectively\n"
     ]
    }
   ],
   "source": [
    "# number of users converted on new landing page\n",
    "converted_new_page = df[df['landing_page']=='new'].converted.value_counts()['yes']\n",
    "# number of users converted on old landing page\n",
    "converted_old_page = df[df['landing_page']=='old'].converted.value_counts()['yes']\n",
    "\n",
    "print('The numbers of users converted on new landing page and old landing page are {0} and {1} respectively'. format(converted_new_page, converted_old_page))\n",
    "\n",
    "# Total number of users in new landing page\n",
    "n_landing_page = df.landing_page.value_counts()['new']\n",
    "\n",
    "# Total number of users in old landing page\n",
    "o_landing_page = df.landing_page.value_counts()['old']\n",
    "\n",
    "print('The total numbers of users on the new landing page and the old landing page are {0} and {1} respectively'.format(n_landing_page, o_landing_page))"
   ]
  },
  {
   "cell_type": "code",
   "execution_count": 43,
   "id": "1a8a3449",
   "metadata": {},
   "outputs": [
    {
     "name": "stdout",
     "output_type": "stream",
     "text": [
      " The proportions of users converted on new landing page and old landing page are 0.66, 0.42 respectively\n"
     ]
    }
   ],
   "source": [
    "print(f' The proportions of users converted on new landing page and old landing page are {round(33/50,2)}, {round(21/50,2)} respectively')"
   ]
  },
  {
   "cell_type": "markdown",
   "id": "b5a8e0a8",
   "metadata": {},
   "source": [
    "### Visual representation"
   ]
  },
  {
   "cell_type": "code",
   "execution_count": 44,
   "id": "fcb813ef",
   "metadata": {},
   "outputs": [
    {
     "data": {
      "image/png": "[encoded data removed]",
      "text/plain": [
       "<Figure size 432x288 with 1 Axes>"
      ]
     },
     "metadata": {
      "needs_background": "light"
     },
     "output_type": "display_data"
    }
   ],
   "source": [
    "sns.countplot(df['converted'], hue = df['landing_page'])\n",
    "plt.show()"
   ]
  },
  {
   "cell_type": "markdown",
   "id": "0e960de7",
   "metadata": {},
   "source": [
    "#### Observation\n",
    "\n",
    "* The above observation and the countplot implies that the proportion of users converted on new landing page are higher than the old landing page. \n",
    "* Let's conduct the test to see if this implies the same with the hypothesis test as well."
   ]
  },
  {
   "cell_type": "markdown",
   "id": "c1ca9a5d",
   "metadata": {},
   "source": [
    "### Defining Null and Alternative hypotheses"
   ]
  },
  {
   "cell_type": "markdown",
   "id": "af7d0d85",
   "metadata": {},
   "source": [
    "𝐻o: The proportion of users who visit landing page and get converted for the new page is equal to the conversion rate of the old page\n",
    "\n",
    "𝐻𝑎: The proportion of users who visit landing page and get converted for the new page is greater than the conversion rate of the old page\n",
    "\n",
    "Let  𝜇1,𝜇2  be the proportion of the converted user on the new landing page and the proportion of the converted user on the old landing page respectively.\n",
    "\n",
    "Mathematically, the above formulated hypotheses can be written as:\n",
    "\n",
    "𝐻o:𝜇1=𝜇2\n",
    "\n",
    "𝐻𝑎:𝜇1>𝜇2"
   ]
  },
  {
   "cell_type": "markdown",
   "id": "21fc252e",
   "metadata": {},
   "source": [
    "### Level of Significance\n",
    "* 𝛼 = 0.05."
   ]
  },
  {
   "cell_type": "markdown",
   "id": "8ac0b520",
   "metadata": {},
   "source": [
    "### Selecting the Appropriate test"
   ]
  },
  {
   "cell_type": "markdown",
   "id": "73580fd9",
   "metadata": {},
   "source": [
    "The formulated hypotheses are concerned with proportions. A test of proportions can be used to analyse the hypotheses and draw a conclusion. We shall use a Proportions Z test for this problem."
   ]
  },
  {
   "cell_type": "markdown",
   "id": "45de26bc",
   "metadata": {},
   "source": [
    "### Calculate the p-value"
   ]
  },
  {
   "cell_type": "code",
   "execution_count": 45,
   "id": "e4308c9a",
   "metadata": {},
   "outputs": [],
   "source": [
    "# import the required function\n",
    "from statsmodels.stats.proportion import proportions_ztest"
   ]
  },
  {
   "cell_type": "code",
   "execution_count": 46,
   "id": "ffc02827",
   "metadata": {},
   "outputs": [
    {
     "name": "stdout",
     "output_type": "stream",
     "text": [
      "The p-value is 0.008026308204056278\n"
     ]
    }
   ],
   "source": [
    "# find the p-value using proportion_ztest\n",
    "stat, pval = proportions_ztest([converted_new_page, converted_old_page] , [n_landing_page, o_landing_page], alternative = 'larger')\n",
    "\n",
    "# print the p-value\n",
    "print('The p-value is '+ str(pval))"
   ]
  },
  {
   "cell_type": "code",
   "execution_count": 47,
   "id": "89168d6f",
   "metadata": {},
   "outputs": [
    {
     "name": "stdout",
     "output_type": "stream",
     "text": [
      "As the p-value 0.008026308204056278 is less than the level of significance, we reject the null hypothesis.\n"
     ]
    }
   ],
   "source": [
    "# print the conclusion based on p-value\n",
    "if pval < 0.05:\n",
    "    print(f'As the p-value {pval} is less than the level of significance, we reject the null hypothesis.')\n",
    "else:\n",
    "    print(f'As the p-value {pval} is greater than the level of significance, we fail to reject the null hypothesis.')"
   ]
  },
  {
   "cell_type": "markdown",
   "id": "574c8dbc",
   "metadata": {},
   "source": [
    "### Conclusion\n",
    "\n",
    "* In this scenario, the p value is 0.008 which is lesser than the 0.05. Hence, we reject the null hypothesis.\n",
    "\n",
    "* This means we have enough statistical evidence to say that the proportion of users who visit new landing page and get converted are greater than the user getting converted on the old page."
   ]
  },
  {
   "cell_type": "markdown",
   "id": "5d499bd3",
   "metadata": {},
   "source": [
    "## Q4) Does the converted status depend on the preferred language? [Hint: Create a contingency table using the pandas.crosstab() function]"
   ]
  },
  {
   "cell_type": "markdown",
   "id": "aecebcd0",
   "metadata": {},
   "source": [
    "### Data Preparation for the test"
   ]
  },
  {
   "cell_type": "code",
   "execution_count": 9,
   "id": "3233fe24",
   "metadata": {},
   "outputs": [
    {
     "data": {
      "text/html": [
       "<div>\n",
       "<style scoped>\n",
       "    .dataframe tbody tr th:only-of-type {\n",
       "        vertical-align: middle;\n",
       "    }\n",
       "\n",
       "    .dataframe tbody tr th {\n",
       "        vertical-align: top;\n",
       "    }\n",
       "\n",
       "    .dataframe thead th {\n",
       "        text-align: right;\n",
       "    }\n",
       "</style>\n",
       "<table border=\"1\" class=\"dataframe\">\n",
       "  <thead>\n",
       "    <tr style=\"text-align: right;\">\n",
       "      <th>language_preferred</th>\n",
       "      <th>English</th>\n",
       "      <th>French</th>\n",
       "      <th>Spanish</th>\n",
       "      <th>All</th>\n",
       "    </tr>\n",
       "    <tr>\n",
       "      <th>converted</th>\n",
       "      <th></th>\n",
       "      <th></th>\n",
       "      <th></th>\n",
       "      <th></th>\n",
       "    </tr>\n",
       "  </thead>\n",
       "  <tbody>\n",
       "    <tr>\n",
       "      <th>no</th>\n",
       "      <td>11</td>\n",
       "      <td>19</td>\n",
       "      <td>16</td>\n",
       "      <td>46</td>\n",
       "    </tr>\n",
       "    <tr>\n",
       "      <th>yes</th>\n",
       "      <td>21</td>\n",
       "      <td>15</td>\n",
       "      <td>18</td>\n",
       "      <td>54</td>\n",
       "    </tr>\n",
       "    <tr>\n",
       "      <th>All</th>\n",
       "      <td>32</td>\n",
       "      <td>34</td>\n",
       "      <td>34</td>\n",
       "      <td>100</td>\n",
       "    </tr>\n",
       "  </tbody>\n",
       "</table>\n",
       "</div>"
      ],
      "text/plain": [
       "language_preferred  English  French  Spanish  All\n",
       "converted                                        \n",
       "no                       11      19       16   46\n",
       "yes                      21      15       18   54\n",
       "All                      32      34       34  100"
      ]
     },
     "execution_count": 9,
     "metadata": {},
     "output_type": "execute_result"
    }
   ],
   "source": [
    "chi_con = pd.crosstab(index=df['converted'], columns=df['language_preferred'], margins = True) #preparing a contingency table using pandas.crosstab() function\n",
    "chi_con"
   ]
  },
  {
   "cell_type": "markdown",
   "id": "ee44b260",
   "metadata": {},
   "source": [
    "### Visual representation"
   ]
  },
  {
   "cell_type": "code",
   "execution_count": 49,
   "id": "06141b4d",
   "metadata": {},
   "outputs": [
    {
     "data": {
      "image/png": "[encoded data removed]",
      "text/plain": [
       "<Figure size 432x288 with 1 Axes>"
      ]
     },
     "metadata": {
      "needs_background": "light"
     },
     "output_type": "display_data"
    }
   ],
   "source": [
    "sns.countplot(df['converted'], hue = df['language_preferred'])\n",
    "sns.set(rc = {'figure.figsize':(7,6)})\n",
    "plt.show()"
   ]
  },
  {
   "cell_type": "markdown",
   "id": "3ede64cd",
   "metadata": {},
   "source": [
    "### Observations\n",
    "\n",
    "* From the above data and the countplot, we cannot significantly infer whether the converted status depends on the prefered language or not. \n",
    "* If we consider only English as a language then yes we can infer that the converted status depends on the preferred English language.\n",
    "* Let's perform a hypothesis test to see if there are enough statistical evidence on whether converted status depends on the prefered language or not."
   ]
  },
  {
   "cell_type": "markdown",
   "id": "7304689c",
   "metadata": {},
   "source": [
    "### Defining Null and alternative hypotheses"
   ]
  },
  {
   "cell_type": "markdown",
   "id": "c99a76d7",
   "metadata": {},
   "source": [
    "We will test the null hypothesis:\n",
    "\n",
    "𝐻o: converted status is independent of the preferred language\n",
    "\n",
    "    \n",
    "Against the alternate hypothesis:\n",
    "    \n",
    "𝐻𝑎: converted status depends on the preferred language\n"
   ]
  },
  {
   "cell_type": "markdown",
   "id": "d99bbe3e",
   "metadata": {},
   "source": [
    "### Level of Significance\n",
    "* 𝛼 = 0.05."
   ]
  },
  {
   "cell_type": "markdown",
   "id": "443a0125",
   "metadata": {},
   "source": [
    "### Selecting Appropriate test"
   ]
  },
  {
   "cell_type": "markdown",
   "id": "b374c806",
   "metadata": {},
   "source": [
    "The formulated hypotheses can be tested using a Chi-square test of independence of attributes, concerning the two categorical variables, coberted and preferred language."
   ]
  },
  {
   "cell_type": "code",
   "execution_count": 10,
   "id": "3e14849d",
   "metadata": {},
   "outputs": [
    {
     "name": "stdout",
     "output_type": "stream",
     "text": [
      "The p-value is 0.7970832186581233\n"
     ]
    }
   ],
   "source": [
    "# import the required function\n",
    "from scipy.stats import chi2_contingency\n",
    "\n",
    "# find the p-value\n",
    "chi, p_value, dof, expected = chi2_contingency(chi_con)\n",
    "print('The p-value is', p_value)"
   ]
  },
  {
   "cell_type": "code",
   "execution_count": 51,
   "id": "fc7ac220",
   "metadata": {},
   "outputs": [
    {
     "name": "stdout",
     "output_type": "stream",
     "text": [
      "As the p-value 0.7970832186581233 is greater than the level of significance, we fail to reject the null hypothesis.\n"
     ]
    }
   ],
   "source": [
    "# print the conclusion based on p-value\n",
    "if p_value < 0.05:\n",
    "    print(f'As the p-value {p_value} is less than the level of significance, we reject the null hypothesis.')\n",
    "else:\n",
    "    print(f'As the p-value {p_value} is greater than the level of significance, we fail to reject the null hypothesis.')"
   ]
  },
  {
   "cell_type": "markdown",
   "id": "efaa73a3",
   "metadata": {},
   "source": [
    "### Conclusion\n",
    "\n",
    "* In this scenario, the p value is 0.797 which is greater than the 0.05, we fail to reject the null hypothesis. Hence we do not have enough statistical evidence to say that the converted status depends on the preferred language."
   ]
  },
  {
   "cell_type": "markdown",
   "id": "4f44fb19",
   "metadata": {},
   "source": [
    "## Q5) Is the mean time spent on the new page same for the different language users?"
   ]
  },
  {
   "cell_type": "code",
   "execution_count": 52,
   "id": "90ae1d09",
   "metadata": {},
   "outputs": [],
   "source": [
    "new = df.copy()"
   ]
  },
  {
   "cell_type": "code",
   "execution_count": 53,
   "id": "85230b3d",
   "metadata": {},
   "outputs": [
    {
     "data": {
      "text/html": [
       "<div>\n",
       "<style scoped>\n",
       "    .dataframe tbody tr th:only-of-type {\n",
       "        vertical-align: middle;\n",
       "    }\n",
       "\n",
       "    .dataframe tbody tr th {\n",
       "        vertical-align: top;\n",
       "    }\n",
       "\n",
       "    .dataframe thead th {\n",
       "        text-align: right;\n",
       "    }\n",
       "</style>\n",
       "<table border=\"1\" class=\"dataframe\">\n",
       "  <thead>\n",
       "    <tr style=\"text-align: right;\">\n",
       "      <th></th>\n",
       "      <th>user_id</th>\n",
       "      <th>group</th>\n",
       "      <th>landing_page</th>\n",
       "      <th>time_spent_on_the_page</th>\n",
       "      <th>converted</th>\n",
       "      <th>language_preferred</th>\n",
       "    </tr>\n",
       "  </thead>\n",
       "  <tbody>\n",
       "    <tr>\n",
       "      <th>1</th>\n",
       "      <td>546468</td>\n",
       "      <td>treatment</td>\n",
       "      <td>new</td>\n",
       "      <td>7.13</td>\n",
       "      <td>yes</td>\n",
       "      <td>English</td>\n",
       "    </tr>\n",
       "    <tr>\n",
       "      <th>2</th>\n",
       "      <td>546462</td>\n",
       "      <td>treatment</td>\n",
       "      <td>new</td>\n",
       "      <td>4.40</td>\n",
       "      <td>no</td>\n",
       "      <td>Spanish</td>\n",
       "    </tr>\n",
       "    <tr>\n",
       "      <th>4</th>\n",
       "      <td>546459</td>\n",
       "      <td>treatment</td>\n",
       "      <td>new</td>\n",
       "      <td>4.75</td>\n",
       "      <td>yes</td>\n",
       "      <td>Spanish</td>\n",
       "    </tr>\n",
       "    <tr>\n",
       "      <th>6</th>\n",
       "      <td>546448</td>\n",
       "      <td>treatment</td>\n",
       "      <td>new</td>\n",
       "      <td>5.25</td>\n",
       "      <td>yes</td>\n",
       "      <td>French</td>\n",
       "    </tr>\n",
       "    <tr>\n",
       "      <th>8</th>\n",
       "      <td>546461</td>\n",
       "      <td>treatment</td>\n",
       "      <td>new</td>\n",
       "      <td>10.71</td>\n",
       "      <td>yes</td>\n",
       "      <td>French</td>\n",
       "    </tr>\n",
       "  </tbody>\n",
       "</table>\n",
       "</div>"
      ],
      "text/plain": [
       "   user_id      group landing_page  time_spent_on_the_page converted  \\\n",
       "1   546468  treatment          new                    7.13       yes   \n",
       "2   546462  treatment          new                    4.40        no   \n",
       "4   546459  treatment          new                    4.75       yes   \n",
       "6   546448  treatment          new                    5.25       yes   \n",
       "8   546461  treatment          new                   10.71       yes   \n",
       "\n",
       "  language_preferred  \n",
       "1            English  \n",
       "2            Spanish  \n",
       "4            Spanish  \n",
       "6             French  \n",
       "8             French  "
      ]
     },
     "execution_count": 53,
     "metadata": {},
     "output_type": "execute_result"
    }
   ],
   "source": [
    "# Creating a new DataFrame where landing page = new\n",
    "new_df = new[new['landing_page']=='new']\n",
    "new_df.head()"
   ]
  },
  {
   "cell_type": "markdown",
   "id": "d212dd2a",
   "metadata": {},
   "source": [
    "Here, time_spent_on_the_page is the response and language_preferred is the factor."
   ]
  },
  {
   "cell_type": "code",
   "execution_count": 54,
   "id": "fee1fec6",
   "metadata": {},
   "outputs": [
    {
     "data": {
      "text/plain": [
       "French     17\n",
       "Spanish    17\n",
       "English    16\n",
       "Name: language_preferred, dtype: int64"
      ]
     },
     "execution_count": 54,
     "metadata": {},
     "output_type": "execute_result"
    }
   ],
   "source": [
    "# get the levels of factor language_preferred\n",
    "new_df['language_preferred'].value_counts()"
   ]
  },
  {
   "cell_type": "markdown",
   "id": "7062a768",
   "metadata": {},
   "source": [
    "### Null and Alternative hypothesis"
   ]
  },
  {
   "cell_type": "markdown",
   "id": "1b3febd3",
   "metadata": {},
   "source": [
    "As per the above sample data the mean time of all the languages **are different** on the Landing page. Let's perform a hypothesis test to see if it is significantly different or not."
   ]
  },
  {
   "cell_type": "markdown",
   "id": "5baf64dd",
   "metadata": {},
   "source": [
    "Let  𝜇1,𝜇2,𝜇3  be the means of time spent on the new landing page by English, Spanish and French language users respectively.\n",
    "\n",
    "We will test the null hypothesis\n",
    "\n",
    "𝐻0:𝜇1=𝜇2=𝜇3 \n",
    "\n",
    "against the alternative hypothesis\n",
    "\n",
    "𝐻𝑎:  At least mean time spent on the new landing page of one language is different from the rest."
   ]
  },
  {
   "cell_type": "markdown",
   "id": "8e2dffc4",
   "metadata": {},
   "source": [
    "### Level of Significance\n",
    "* 𝛼 = 0.05."
   ]
  },
  {
   "cell_type": "markdown",
   "id": "27f84df6",
   "metadata": {},
   "source": [
    "### Data Preparation"
   ]
  },
  {
   "cell_type": "code",
   "execution_count": 55,
   "id": "98515f04",
   "metadata": {},
   "outputs": [
    {
     "data": {
      "text/html": [
       "<div>\n",
       "<style scoped>\n",
       "    .dataframe tbody tr th:only-of-type {\n",
       "        vertical-align: middle;\n",
       "    }\n",
       "\n",
       "    .dataframe tbody tr th {\n",
       "        vertical-align: top;\n",
       "    }\n",
       "\n",
       "    .dataframe thead th {\n",
       "        text-align: right;\n",
       "    }\n",
       "</style>\n",
       "<table border=\"1\" class=\"dataframe\">\n",
       "  <thead>\n",
       "    <tr style=\"text-align: right;\">\n",
       "      <th></th>\n",
       "      <th>time_spent_on_the_page_mean</th>\n",
       "    </tr>\n",
       "    <tr>\n",
       "      <th>language_preferred</th>\n",
       "      <th></th>\n",
       "    </tr>\n",
       "  </thead>\n",
       "  <tbody>\n",
       "    <tr>\n",
       "      <th>English</th>\n",
       "      <td>6.663750</td>\n",
       "    </tr>\n",
       "    <tr>\n",
       "      <th>French</th>\n",
       "      <td>6.196471</td>\n",
       "    </tr>\n",
       "    <tr>\n",
       "      <th>Spanish</th>\n",
       "      <td>5.835294</td>\n",
       "    </tr>\n",
       "  </tbody>\n",
       "</table>\n",
       "</div>"
      ],
      "text/plain": [
       "                    time_spent_on_the_page_mean\n",
       "language_preferred                             \n",
       "English                                6.663750\n",
       "French                                 6.196471\n",
       "Spanish                                5.835294"
      ]
     },
     "execution_count": 55,
     "metadata": {},
     "output_type": "execute_result"
    }
   ],
   "source": [
    "mean_time_languages = (new_df.groupby(['language_preferred']).agg({'time_spent_on_the_page':['mean']})) ##Using groupby and agg function \n",
    "mean_time_languages.columns=['_'.join(col) for col in mean_time_languages.columns]         # To join the results from above group by and aggregated data\n",
    "mean_time_languages"
   ]
  },
  {
   "cell_type": "markdown",
   "id": "d346b5e0",
   "metadata": {},
   "source": [
    "### Visual representation"
   ]
  },
  {
   "cell_type": "code",
   "execution_count": 56,
   "id": "f4e15e13",
   "metadata": {},
   "outputs": [
    {
     "data": {
      "image/png": "[encoded data removed]",
      "text/plain": [
       "<Figure size 432x432 with 1 Axes>"
      ]
     },
     "metadata": {},
     "output_type": "display_data"
    }
   ],
   "source": [
    "# draw the boxplot for visualization \n",
    "fig, ax = plt.subplots(figsize = (6,6))\n",
    "a = sns.boxplot(x= 'language_preferred', y = 'time_spent_on_the_page' , data = new_df, hue = 'language_preferred')\n",
    "a.set_title(\"Mean time spent on the new Landing page w.r.t Language preferences\", fontsize=15)\n",
    "plt.show()"
   ]
  },
  {
   "cell_type": "markdown",
   "id": "745db9d2",
   "metadata": {},
   "source": [
    "### Observations\n",
    "\n",
    "* From the above plot and data we can infer that the mean time spent on the new landing page are different for language users.\n",
    "* Let's perform a hypothesis test to see if there are enough statistical evidences or not for our observations"
   ]
  },
  {
   "cell_type": "markdown",
   "id": "4e6c94e1",
   "metadata": {},
   "source": [
    "Now, the normality and equality of variance assumptions need to be checked. \n",
    "\n",
    "* For testing of normality, Shapiro-Wilk’s test is applied to the response variable.\n",
    "\n",
    "* For equality of variance, Levene test is applied to the response variable."
   ]
  },
  {
   "cell_type": "markdown",
   "id": "5c835913",
   "metadata": {},
   "source": [
    "### Shapiro-Wilk’s test\n",
    "\n",
    "We will test the null hypothesis\n",
    "\n",
    ">$H_0:$ Time spent on the new landing page follows a normal distribution against\n",
    "\n",
    "Against the alternative hypothesis\n",
    "\n",
    ">$H_a:$ Time spent on the new landing page does not follow a normal distribution"
   ]
  },
  {
   "cell_type": "code",
   "execution_count": 57,
   "id": "e974bdb0",
   "metadata": {},
   "outputs": [
    {
     "name": "stdout",
     "output_type": "stream",
     "text": [
      "The p-value is 0.8040016293525696\n"
     ]
    }
   ],
   "source": [
    "# Assumption 1: Normality\n",
    "# find the p-value\n",
    "w, p_value = stats.shapiro(new_df['time_spent_on_the_page']) \n",
    "print('The p-value is', p_value)"
   ]
  },
  {
   "cell_type": "markdown",
   "id": "84157b55",
   "metadata": {},
   "source": [
    "Since p-value of the test is very large, we fail to reject the null hypothesis that the response follows the normal distribution."
   ]
  },
  {
   "cell_type": "markdown",
   "id": "35e7625a",
   "metadata": {},
   "source": [
    "### Levene’s test\n",
    "\n",
    "We will test the null hypothesis\n",
    "\n",
    ">$H_0$: All the population variances are equal\n",
    "\n",
    "against the alternative hypothesis\n",
    "\n",
    ">$H_a$: At least one variance is different from the rest"
   ]
  },
  {
   "cell_type": "code",
   "execution_count": 58,
   "id": "a16764a4",
   "metadata": {},
   "outputs": [
    {
     "name": "stdout",
     "output_type": "stream",
     "text": [
      "The p-value is 0.46711357711340173\n"
     ]
    }
   ],
   "source": [
    "#Assumption 2: Homogeneity of Variance\n",
    "#import the required function\n",
    "from scipy.stats import levene\n",
    "\n",
    "statistic, p_value = levene( new_df['time_spent_on_the_page'][new_df['language_preferred']==\"English\"], \n",
    "                                   new_df['time_spent_on_the_page'][new_df['language_preferred']==\"Spanish\"], \n",
    "                                   new_df['time_spent_on_the_page'][new_df['language_preferred']==\"French\"])\n",
    "# find the p-value\n",
    "print('The p-value is', p_value)"
   ]
  },
  {
   "cell_type": "markdown",
   "id": "e647364f",
   "metadata": {},
   "source": [
    "Since the p-value is large, we fail to reject the null hypothesis of homogeneity of variances."
   ]
  },
  {
   "cell_type": "markdown",
   "id": "45be1a60",
   "metadata": {},
   "source": [
    "### Let's test whether the assumptions are satisfied or not\n",
    "* The populations are normally distributed - Yes, the normality assumption is verified using the Shapiro-Wilk’s test.\n",
    "* Samples are independent simple random samples - Yes, we are informed that the collected sample is a simple random sample.\n",
    "* Population variances are equal - Yes, the homogeneity of variance assumption is verified using the Levene's test."
   ]
  },
  {
   "cell_type": "markdown",
   "id": "1deba5b0",
   "metadata": {},
   "source": [
    "### Calculate the P-Value"
   ]
  },
  {
   "cell_type": "code",
   "execution_count": 59,
   "id": "3f16a524",
   "metadata": {},
   "outputs": [
    {
     "name": "stdout",
     "output_type": "stream",
     "text": [
      "The p-value is 0.43204138694325955\n"
     ]
    }
   ],
   "source": [
    "#import the required function\n",
    "from scipy.stats import f_oneway\n",
    "\n",
    "# perform one-way anova test\n",
    "test_stat, pvalue = f_oneway(new_df.loc[new_df['language_preferred'] == 'English', 'time_spent_on_the_page'],\n",
    "                              new_df.loc[new_df['language_preferred'] == 'Spanish', 'time_spent_on_the_page'],\n",
    "                              new_df.loc[new_df['language_preferred'] == 'French', 'time_spent_on_the_page'])\n",
    "print('The p-value is ' + str(pvalue))"
   ]
  },
  {
   "cell_type": "code",
   "execution_count": 60,
   "id": "de761bda",
   "metadata": {
    "scrolled": true
   },
   "outputs": [
    {
     "name": "stdout",
     "output_type": "stream",
     "text": [
      "As the p-value 0.43204138694325955 is greater than the level of significance, we fail to reject the null hypothesis.\n"
     ]
    }
   ],
   "source": [
    "# print the conclusion based on p-value\n",
    "if pvalue < 0.05:\n",
    "    print(f'As the p-value {pvalue} is less than the level of significance, we r\n",
    "          eject the null hypothesis.')\n",
    "else:\n",
    "    print(f'As the p-value {pvalue} is greater than the level of significance, we fail to reject the null hypothesis.')"
   ]
  },
  {
   "cell_type": "markdown",
   "id": "599e8c12",
   "metadata": {},
   "source": [
    "### Conclusion\n",
    "\n",
    "* As the p-value is much higher than the significance level, we fail to reject the null hypothesis. \n",
    "* Hence, we do have enough statistical evidence to conclude that the mean time spent by the users on the new landing page is same for different language users."
   ]
  },
  {
   "cell_type": "markdown",
   "id": "da990b2b",
   "metadata": {},
   "source": [
    "## Key overall observations \n",
    "\n",
    "* The average time spent by the user on the new landing page is 37% higher than the old landing page, this means that the new landing page is successful in engaging the user.\n",
    "* The proportion of the convertion of user on the new landing page is whopping 57% higher than the old landing page.\n",
    "* Though the sample data showed that the convertion status is slightly higher with the preferred languages, but statistically it does not hold.\n",
    "* Though the mean time spent on the new landing page is different for the different language user in the sample data, but statistically it does not hold. Therefore it implies that different language user does not impact the time spent on the page.\n",
    "* From the given data we can conclude that the new feature is significantly effective in increasing the subscribers for the channel."
   ]
  },
  {
   "cell_type": "markdown",
   "id": "e10dd878",
   "metadata": {},
   "source": [
    "## Key Insights\n",
    "Further data will be required to observe the following:\n",
    "\n",
    "* Flow of traffic data (From Search engines,web/app of the channel, direct advertisments, social meida etc...) will be required to anlayse where the actual flow of traffic is coming from and channelising the promotion plans to increase the subscriber base and the therefore the revenue for the channel."
   ]
  }
 ],
 "metadata": {
  "kernelspec": {
   "display_name": "Python 3",
   "language": "python",
   "name": "python3"
  },
  "language_info": {
   "codemirror_mode": {
    "name": "ipython",
    "version": 3
   },
   "file_extension": ".py",
   "mimetype": "text/x-python",
   "name": "python",
   "nbconvert_exporter": "python",
   "pygments_lexer": "ipython3",
   "version": "3.8.8"
  }
 },
 "nbformat": 4,
 "nbformat_minor": 5
}
